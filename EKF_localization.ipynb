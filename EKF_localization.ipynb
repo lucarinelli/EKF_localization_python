{
 "cells": [
  {
   "cell_type": "markdown",
   "metadata": {},
   "source": [
    "# Extended Kalman Filter localization example\n",
    "We are considering a robot with differential traction with a rotary sensor on its top. It detects beacons and obtain a measure of its distance and angle to the robot refential frame.\n",
    "Whenever we observe a beacon there is an error in the estimated angle and an error in estimating the distance. We assume that the standard deviation of the distance error increases proportionally with distance.\n",
    "\n",
    "This work is inspired on \"Laboratorial Work 4 - Robot localization based on beacons\" from the course \"Sistemas Robóticos Autónomos\" at FEUP.\n",
    "More specifically we are talking about a soccer robot in a small soccer field with the beacons in the four corner. The robot uses first a rotative of a camera and then an omnidirectional camera in the second part. "
   ]
  },
  {
   "cell_type": "markdown",
   "metadata": {},
   "source": [
    "## 1. Extended Kalman Filter implementation in robot simulator\n",
    "We start by importing numpy"
   ]
  },
  {
   "cell_type": "code",
   "execution_count": 1,
   "metadata": {},
   "outputs": [],
   "source": [
    "import numpy as np"
   ]
  },
  {
   "cell_type": "markdown",
   "metadata": {},
   "source": [
    "and setting the initial state of the robot at"
   ]
  },
  {
   "cell_type": "code",
   "execution_count": 2,
   "metadata": {},
   "outputs": [
    {
     "data": {
      "text/plain": [
       "array([ 2, -2,  0])"
      ]
     },
     "execution_count": 2,
     "metadata": {},
     "output_type": "execute_result"
    }
   ],
   "source": [
    "x=np.array([2, -2, 0])\n",
    "x"
   ]
  },
  {
   "cell_type": "markdown",
   "metadata": {},
   "source": [
    "Differently from MATLAB at this stage does not make sense to distinguish from \"horizontal\" or \"vertical\" vectors."
   ]
  },
  {
   "cell_type": "markdown",
   "metadata": {},
   "source": [
    "We are going to simulate"
   ]
  },
  {
   "cell_type": "code",
   "execution_count": 3,
   "metadata": {},
   "outputs": [],
   "source": [
    "N=300"
   ]
  },
  {
   "cell_type": "markdown",
   "metadata": {},
   "source": [
    "time intervals, each of lenght"
   ]
  },
  {
   "cell_type": "code",
   "execution_count": 4,
   "metadata": {},
   "outputs": [],
   "source": [
    "dt=0.040"
   ]
  },
  {
   "cell_type": "markdown",
   "metadata": {},
   "source": [
    "Now we generate the control signals of the robot for each time interval"
   ]
  },
  {
   "cell_type": "code",
   "execution_count": 5,
   "metadata": {},
   "outputs": [],
   "source": [
    "v_t = np.random.normal(0,1,N) + 1 #linear velocity\n",
    "omega_t = np.random.normal(0,1,N)*0.5 + 0.5 #angular velocity"
   ]
  },
  {
   "cell_type": "markdown",
   "metadata": {},
   "source": [
    "and we group them in"
   ]
  },
  {
   "cell_type": "code",
   "execution_count": 6,
   "metadata": {},
   "outputs": [
    {
     "data": {
      "text/plain": [
       "(2, 300)"
      ]
     },
     "execution_count": 6,
     "metadata": {},
     "output_type": "execute_result"
    }
   ],
   "source": [
    "u_t = np.array([v_t,omega_t])\n",
    "u_t.shape"
   ]
  },
  {
   "cell_type": "markdown",
   "metadata": {},
   "source": [
    "We set the matrices of covariances..."
   ]
  },
  {
   "cell_type": "code",
   "execution_count": 7,
   "metadata": {},
   "outputs": [],
   "source": [
    "P = np.eye(3)*1e-3 # covariance robot belief from prediction update\n",
    "Q = np.array([[0.1**2, 0], [0, 0.05**2]]) # covariance belief exteroceptive measurments"
   ]
  },
  {
   "cell_type": "markdown",
   "metadata": {},
   "source": [
    "Standard deviation of the error of measurment for the beacons"
   ]
  },
  {
   "cell_type": "code",
   "execution_count": 8,
   "metadata": {},
   "outputs": [],
   "source": [
    "sdv_dist_1m = 0.05\n",
    "sdv_ang = 0.01"
   ]
  },
  {
   "cell_type": "markdown",
   "metadata": {},
   "source": [
    "We set the location of the first two beacons in the map"
   ]
  },
  {
   "cell_type": "code",
   "execution_count": 9,
   "metadata": {},
   "outputs": [],
   "source": [
    "xb1 = 5\n",
    "yb1 = -2.5\n",
    "xb2 = 5\n",
    "yb2 = 2.5"
   ]
  },
  {
   "cell_type": "markdown",
   "metadata": {},
   "source": [
    "The initial value for the extimated/predicted state/position of the robot is"
   ]
  },
  {
   "cell_type": "code",
   "execution_count": 10,
   "metadata": {},
   "outputs": [],
   "source": [
    "x_e = np.array([2.5, -2.5, 0])\n",
    "xr_e = x_e[0] \n",
    "yr_e = x_e[1]\n",
    "theta_r_e = x_e[2]"
   ]
  },
  {
   "cell_type": "markdown",
   "metadata": {},
   "source": [
    "Initialize the variables to record the simulation (probably this is not the smartest way, I know that...)"
   ]
  },
  {
   "cell_type": "code",
   "execution_count": 11,
   "metadata": {},
   "outputs": [],
   "source": [
    "x_t = np.array([])\n",
    "x_e_t = np.array([])"
   ]
  },
  {
   "cell_type": "markdown",
   "metadata": {},
   "source": [
    "### Simulation"
   ]
  },
  {
   "cell_type": "markdown",
   "metadata": {},
   "source": [
    "What's this?\n",
    "TODO: add a cool latex equation here representing the multi-line comment below"
   ]
  },
  {
   "cell_type": "code",
   "execution_count": 39,
   "metadata": {},
   "outputs": [],
   "source": [
    "from math import sin, cos, sqrt, atan2\n",
    "def F(t,y,u):\n",
    "    '''\n",
    "    Simulation of a mobile robot\n",
    "    State vector:   X(t)=[displacement along x axis - x(t)\n",
    "                          displacement along y axis - y(t)\n",
    "                          angular position - a(t)]\n",
    "                          \n",
    "                    u(t)=[linear velocity - v(t)\n",
    "                          angular velocity - w(t)]\n",
    "    Equations: dx(t)/dt = v(t)*cos(a(t))\n",
    "               dy(t)/dt = v(t)*sin(a(t))\n",
    "               da(t)/dt = w(t)\n",
    "    '''\n",
    "    # return dy/dt = f(t,y).\n",
    "    return np.array([u[0]*cos(y[2]), u[0]*sin(y[2]), u[1]])"
   ]
  },
  {
   "cell_type": "markdown",
   "metadata": {},
   "source": [
    "In the simulation we need to solve a differential equation, so we will need"
   ]
  },
  {
   "cell_type": "code",
   "execution_count": 13,
   "metadata": {},
   "outputs": [],
   "source": [
    "from scipy.integrate import solve_ivp"
   ]
  },
  {
   "cell_type": "markdown",
   "metadata": {},
   "source": [
    "Initialize counter to change from one beacon to the other"
   ]
  },
  {
   "cell_type": "code",
   "execution_count": 34,
   "metadata": {},
   "outputs": [],
   "source": [
    "p_count = 0"
   ]
  },
  {
   "cell_type": "markdown",
   "metadata": {},
   "source": [
    "Here we go..."
   ]
  },
  {
   "cell_type": "code",
   "execution_count": 54,
   "metadata": {},
   "outputs": [],
   "source": [
    "for i in range(0, N):\n",
    "    # record the evolution of the states\n",
    "    x_t = np.concatenate((x_t, x), axis = 0)\n",
    "    x_e_t = np.concatenate((x_e_t, x_e), axis = 0)\n",
    "\n",
    "    # simulation of the robot\n",
    "    v = u_t[0, i]\n",
    "    omega = u_t[1, i]\n",
    "    TSPAN = [0, dt]\n",
    "    sol = solve_ivp(lambda t, y: F(t,y,u_t[:,i]), TSPAN, x, rtol = 1000, atol = 1000)\n",
    "\n",
    "    x = sol.y[:,-1]\n",
    "    xr = x[0]\n",
    "    yr = x[1]\n",
    "    theta_r = x[2]\n",
    "\n",
    "    # update of the extimation of the state of the robot X(k+1) = f(X(k),U)\n",
    "    xr_e = x_e[0] \n",
    "    yr_e = x_e[1] \n",
    "    theta_r_e = x_e[2]\n",
    "\n",
    "    xr_e = xr_e + v * cos(theta_r_e + omega * dt / 2) * dt \n",
    "    yr_e = yr_e + v * sin(theta_r_e + omega * dt / 2) * dt \n",
    "    theta_r_e = theta_r_e + omega * dt\n",
    "\n",
    "    x_e=np.array([xr_e, yr_e, theta_r_e]) # maybe transpose?\n",
    "\n",
    "    # calculate grad_f_X=df/dX \n",
    "    grad_f_X = np.array([[1, 0, -v*dt*sin(theta_r_e+omega*dt/2)],\n",
    "                         [0, 1, v*dt*cos(theta_r_e+omega*dt/2)],\n",
    "                         [0, 0, 1]])\n",
    "\n",
    "    # calculate grad_f_U=df/dU\n",
    "    grad_f_U = np.array([[cos(theta_r_e+omega*dt/2)*dt, -v*dt*0.5*sin(theta_r_e+omega*dt/2)],\n",
    "                         [sin(theta_r_e+omega*dt/2)*dt, v*dt*0.5*cos(theta_r_e+omega*dt/2)],\n",
    "                         [0, 1]])\n",
    "\n",
    "    # update covariance\n",
    "    P = np.dot(grad_f_X, np.dot(P, np.transpose(grad_f_X))) + np.dot(grad_f_U, np.dot(Q, np.transpose(grad_f_U)))\n",
    "\n",
    "    # counter to change from one beacon to the other\n",
    "    p_count = p_count + 1\n",
    "\n",
    "    if p_count==100:\n",
    "        p_count=0 \n",
    "\n",
    "    if p_count <= 50: # beacon 1\n",
    "        # simulation of the observed measures\n",
    "        distp = sqrt((xb1 - xr)**2 + (yb1 - yr)**2)\n",
    "        distp_measured = distp + np.random.normal(0,1) * sdv_dist_1m * distp\n",
    "        theta_p = atan2(yb1 - yr, xb1 - xr) - theta_r\n",
    "        theta_p_measured = theta_p + np.random.normal(0,1) * sdv_ang\n",
    "        z = np.array([distp_measured, theta_p_measured])\n",
    "\n",
    "        # expected values for the measures taking into account the state of the robot z = h(X)\n",
    "        distp_e = sqrt((xb1 - xr_e)**2 + (yb1 - yr_e)**2)\n",
    "        theta_p_e = atan2(yb1 - yr_e, xb1 - xr_e) - theta_r_e\n",
    "        z_e = np.array([distp_e, theta_p_e])\n",
    "\n",
    "        # covariance matrix of the measures noise\n",
    "        R = np.array([[(distp_e*sdv_dist_1m)**2, 0],\n",
    "                      [0, sdv_ang**2]])\n",
    "\n",
    "        # calculation of dH/dX\n",
    "        grad_h_X  = np.array([[-(xb1-xr_e)/distp_e, -(yb1-yr_e)/distp_e, 0],\n",
    "                              [(yb1-yr_e)/(distp_e**2), -(xb1-xr_e)/(distp_e**2), -1]])           \n",
    "    else: # beacon 2\n",
    "        # simulation of the observed measures\n",
    "        distp = sqrt((xb2 - xr)**2 + (yb2 - yr)**2)\n",
    "        distp_measured = distp + np.random.normal(0,1) * sdv_dist_1m * distp\n",
    "        theta_p = atan2(yb2 - yr, xb2 - xr) - theta_r\n",
    "        theta_p_measured = theta_p + np.random.normal(0,1) * sdv_ang\n",
    "        z = np.array([distp_measured, theta_p_measured])\n",
    "\n",
    "        # expected values for the measures taking into account the state of the robot z = h(X)\n",
    "        distp_e = sqrt((xb2 - xr_e)**2 + (yb2 - yr_e)**2)\n",
    "        theta_p_e = atan2(yb2 - yr_e, xb2 - xr_e) - theta_r_e\n",
    "        z_e = np.array([distp_e, theta_p_e])\n",
    "\n",
    "        # covariance matrix of the measures noise\n",
    "        R = np.array([[(distp_e*sdv_dist_1m)**2, 0],\n",
    "                      [0, sdv_ang**2]])\n",
    "\n",
    "        # calculation of dH/dX\n",
    "        grad_h_X  = np.array([[-(xb2-xr_e)/distp_e, -(yb2-yr_e)/distp_e, 0],\n",
    "                              [(yb2-yr_e)/(distp_e**2), -(xb2-xr_e)/(distp_e**2), -1]])\n",
    "\n",
    "\n",
    "    # Kalman gain\n",
    "    k = np.dot(P,np.dot(np.transpose(grad_h_X), np.linalg.inv(np.dot(grad_h_X, np.dot(P, np.transpose(grad_h_X)))) + R));\n",
    "\n",
    "    # covariance update\n",
    "    P = np.dot(np.eye(3) - np.dot(k, grad_h_X), P)\n",
    "\n",
    "    # update expected state\n",
    "    x_e = x_e + np.dot(k, z - z_e)"
   ]
  },
  {
   "cell_type": "markdown",
   "metadata": {},
   "source": [
    "### Visualize the results\n",
    "Let's see what we got..."
   ]
  },
  {
   "cell_type": "code",
   "execution_count": 57,
   "metadata": {},
   "outputs": [
    {
     "ename": "IndexError",
     "evalue": "too many indices for array",
     "output_type": "error",
     "traceback": [
      "\u001b[1;31m---------------------------------------------------------------------------\u001b[0m",
      "\u001b[1;31mIndexError\u001b[0m                                Traceback (most recent call last)",
      "\u001b[1;32m<ipython-input-57-5edc13535bb5>\u001b[0m in \u001b[0;36m<module>\u001b[1;34m\u001b[0m\n\u001b[0;32m      1\u001b[0m \u001b[1;32mfrom\u001b[0m \u001b[0mmatplotlib\u001b[0m\u001b[1;33m.\u001b[0m\u001b[0mpyplot\u001b[0m \u001b[1;32mimport\u001b[0m \u001b[0mplot\u001b[0m\u001b[1;33m\u001b[0m\u001b[1;33m\u001b[0m\u001b[0m\n\u001b[0;32m      2\u001b[0m \u001b[0mL\u001b[0m \u001b[1;33m=\u001b[0m \u001b[1;36m0.01\u001b[0m\u001b[1;33m\u001b[0m\u001b[1;33m\u001b[0m\u001b[0m\n\u001b[1;32m----> 3\u001b[1;33m plot(x_t[0,:],x_t[1,:] ,'o',\n\u001b[0m\u001b[0;32m      4\u001b[0m      \u001b[1;31m#x_t(1,:)+np.dot(L, np.cos(x_t(3,:))),   x_t(2,:)+np.dot(L, np.sin(x_t(3,:))) ,'.',\u001b[0m\u001b[1;33m\u001b[0m\u001b[1;33m\u001b[0m\u001b[1;33m\u001b[0m\u001b[0m\n\u001b[0;32m      5\u001b[0m      \u001b[1;31m#x_e_t(1,:),   x_e_t(2,:) ,'o',\u001b[0m\u001b[1;33m\u001b[0m\u001b[1;33m\u001b[0m\u001b[1;33m\u001b[0m\u001b[0m\n",
      "\u001b[1;31mIndexError\u001b[0m: too many indices for array"
     ]
    }
   ],
   "source": [
    "from matplotlib.pyplot import plot\n",
    "L = 0.01\n",
    "plot(x_t[0,:],x_t[1,:] ,'o',\n",
    "     #x_t(1,:)+np.dot(L, np.cos(x_t(3,:))),   x_t(2,:)+np.dot(L, np.sin(x_t(3,:))) ,'.',\n",
    "     #x_e_t(1,:),   x_e_t(2,:) ,'o',\n",
    "     #x_e_t(1,:)+np.dot(L, np.cos(x_e_t(3,:))),   x_e_t(2,:)+np.dot(L, np.sin(x_e_t(3,:))) ,'.' ,\n",
    "     xp1,yp1 ,'p', xp2,yp2, 'h')\n",
    "#legend(   'xy',          'dir', 'xy_e',          'dir_e', 'Pole 1',  'Pole 2' ), "
   ]
  },
  {
   "cell_type": "markdown",
   "metadata": {},
   "source": [
    "## 2. Implementation considering only angle or distance measure\n",
    "Content"
   ]
  },
  {
   "cell_type": "markdown",
   "metadata": {},
   "source": [
    "## 3. Four beacons simultaneously\n",
    "Content"
   ]
  },
  {
   "cell_type": "markdown",
   "metadata": {},
   "source": [
    "## 4. Four beacons: only angle or distance\n",
    "Content"
   ]
  },
  {
   "cell_type": "markdown",
   "metadata": {},
   "source": [
    "## 5. Observations in coordinates of the robot referential frame\n",
    "Content"
   ]
  }
 ],
 "metadata": {
  "kernelspec": {
   "display_name": "Python 3",
   "language": "python",
   "name": "python3"
  },
  "language_info": {
   "codemirror_mode": {
    "name": "ipython",
    "version": 3
   },
   "file_extension": ".py",
   "mimetype": "text/x-python",
   "name": "python",
   "nbconvert_exporter": "python",
   "pygments_lexer": "ipython3",
   "version": "3.7.1"
  }
 },
 "nbformat": 4,
 "nbformat_minor": 2
}
