{
 "cells": [
  {
   "cell_type": "markdown",
   "metadata": {},
   "source": [
    "# Extended Kalman Filter localization example\n",
    "We are considering a robot with differential traction with a rotary sensor on its top. It detects beacons and obtain a measure of its distance and angle to the robot refential frame.\n",
    "Whenever we observe a beacon there is an error in the estimated angle and an error in estimating the distance. We assume that the standard deviation of the distance error increases proportionally with distance.\n",
    "\n",
    "This work is inspired on \"Laboratorial Work 4 - Robot localization based on beacons\" from the course \"Sistemas Robóticos Autónomos\" at FEUP.\n",
    "More specifically we are talking about a soccer robot in a small soccer field with the beacons in the four corner. The robot uses first a rotative of a camera and then an omnidirectional camera in the second part. "
   ]
  },
  {
   "cell_type": "markdown",
   "metadata": {},
   "source": [
    "## 1. Extended Kalman Filter implementation in robot simulator\n",
    "We start by importing numpy"
   ]
  },
  {
   "cell_type": "code",
   "execution_count": 1,
   "metadata": {},
   "outputs": [],
   "source": [
    "import numpy as np"
   ]
  },
  {
   "cell_type": "markdown",
   "metadata": {},
   "source": [
    "and setting the initial state of the robot at"
   ]
  },
  {
   "cell_type": "code",
   "execution_count": 2,
   "metadata": {},
   "outputs": [
    {
     "data": {
      "text/plain": [
       "array([ 2, -2,  0])"
      ]
     },
     "execution_count": 2,
     "metadata": {},
     "output_type": "execute_result"
    }
   ],
   "source": [
    "x=np.array([2, -2, 0])\n",
    "x"
   ]
  },
  {
   "cell_type": "markdown",
   "metadata": {},
   "source": [
    "Differently from MATLAB at this stage does not make sense to distinguish from \"horizontal\" or \"vertical\" vectors."
   ]
  },
  {
   "cell_type": "markdown",
   "metadata": {},
   "source": [
    "We are going to simulate"
   ]
  },
  {
   "cell_type": "code",
   "execution_count": 3,
   "metadata": {},
   "outputs": [],
   "source": [
    "N=300"
   ]
  },
  {
   "cell_type": "markdown",
   "metadata": {},
   "source": [
    "time intervals, each of lenght"
   ]
  },
  {
   "cell_type": "code",
   "execution_count": 4,
   "metadata": {},
   "outputs": [],
   "source": [
    "dt=0.040"
   ]
  },
  {
   "cell_type": "markdown",
   "metadata": {},
   "source": [
    "Now we generate the control signals of the robot for each time interval"
   ]
  },
  {
   "cell_type": "code",
   "execution_count": 5,
   "metadata": {},
   "outputs": [],
   "source": [
    "v_t = np.random.normal(0,1,N) + 1 #linear velocity\n",
    "omega_t = np.random.normal(0,1,N)*0.5 + 0.5 #angular velocity"
   ]
  },
  {
   "cell_type": "markdown",
   "metadata": {},
   "source": [
    "and we group them in"
   ]
  },
  {
   "cell_type": "code",
   "execution_count": 6,
   "metadata": {},
   "outputs": [
    {
     "data": {
      "text/plain": [
       "(2, 300)"
      ]
     },
     "execution_count": 6,
     "metadata": {},
     "output_type": "execute_result"
    }
   ],
   "source": [
    "u_t = np.array([v_t,omega_t])\n",
    "u_t.shape"
   ]
  },
  {
   "cell_type": "markdown",
   "metadata": {},
   "source": [
    "We set the matrices of covariances..."
   ]
  },
  {
   "cell_type": "code",
   "execution_count": 7,
   "metadata": {},
   "outputs": [],
   "source": [
    "P = np.eye(3)*1e-3 # covariance robot belief from prediction update\n",
    "Q = np.array([[0.1**2, 0], [0, 0.05**2]]) # covariance belief exteroceptive measurments"
   ]
  },
  {
   "cell_type": "markdown",
   "metadata": {},
   "source": [
    "Standard deviation of the error of measurment for the beacons"
   ]
  },
  {
   "cell_type": "code",
   "execution_count": 8,
   "metadata": {},
   "outputs": [],
   "source": [
    "sdv_dist_1m = 0.05\n",
    "sdv_ang = 0.01"
   ]
  },
  {
   "cell_type": "markdown",
   "metadata": {},
   "source": [
    "We set the location of the first two beacons in the map"
   ]
  },
  {
   "cell_type": "code",
   "execution_count": 9,
   "metadata": {},
   "outputs": [],
   "source": [
    "xb1 = 5\n",
    "yb1 = -2.5\n",
    "xb2 = 5\n",
    "yb2 = 2.5"
   ]
  },
  {
   "cell_type": "markdown",
   "metadata": {},
   "source": [
    "The initial value for the extimated/predicted state/position of the robot is"
   ]
  },
  {
   "cell_type": "code",
   "execution_count": 10,
   "metadata": {},
   "outputs": [],
   "source": [
    "x_e = np.array([2.5, -2.5, 0])\n",
    "xr_e = x_e[0] \n",
    "yr_e = x_e[1]\n",
    "theta_r_e = x_e[2]"
   ]
  },
  {
   "cell_type": "markdown",
   "metadata": {},
   "source": [
    "Initialize the variables to record the simulation (probably this is not the smartest way, I know that...)"
   ]
  },
  {
   "cell_type": "code",
   "execution_count": 11,
   "metadata": {},
   "outputs": [],
   "source": [
    "x_t = np.array([])\n",
    "x_e_t = np.array([])"
   ]
  },
  {
   "cell_type": "markdown",
   "metadata": {},
   "source": [
    "### Simulation"
   ]
  },
  {
   "cell_type": "markdown",
   "metadata": {},
   "source": [
    "What's this?\n",
    "TODO: add a cool latex equation here representing the multi-line comment below"
   ]
  },
  {
   "cell_type": "code",
   "execution_count": 12,
   "metadata": {},
   "outputs": [],
   "source": [
    "from math import sin, cos\n",
    "def F(t,y,u):\n",
    "    '''\n",
    "    Simulation of a mobile robot\n",
    "    State vector:   X(t)=[displacement along x axis - x(t)\n",
    "                          displacement along y axis - y(t)\n",
    "                          angular position - a(t)]\n",
    "                          \n",
    "                    u(t)=[linear velocity - v(t)\n",
    "                          angular velocity - w(t)]\n",
    "    Equations: dx(t)/dt = v(t)*cos(a(t))\n",
    "               dy(t)/dt = v(t)*sin(a(t))\n",
    "               da(t)/dt = w(t)\n",
    "    '''\n",
    "    # return dy/dt = f(t,y).\n",
    "    return np.array([u[0]*cos(y[2]), u[0]*sin(y[2]), u[1]])"
   ]
  },
  {
   "cell_type": "markdown",
   "metadata": {},
   "source": [
    "In the simulation we need to solve a differential equation, so we will need"
   ]
  },
  {
   "cell_type": "code",
   "execution_count": 13,
   "metadata": {},
   "outputs": [],
   "source": [
    "from scipy.integrate import solve_ivp"
   ]
  },
  {
   "cell_type": "markdown",
   "metadata": {},
   "source": [
    "Here we go..."
   ]
  },
  {
   "cell_type": "code",
   "execution_count": 14,
   "metadata": {},
   "outputs": [
    {
     "data": {
      "text/plain": [
       "  message: 'The solver successfully reached the end of the integration interval.'\n",
       "     nfev: 8\n",
       "     njev: 0\n",
       "      nlu: 0\n",
       "      sol: None\n",
       "   status: 0\n",
       "  success: True\n",
       "        t: array([0.  , 0.04])\n",
       " t_events: None\n",
       "        y: array([[ 2.        ,  2.00383167],\n",
       "       [-2.        , -1.99991674],\n",
       "       [ 0.        ,  0.04345078]])"
      ]
     },
     "execution_count": 14,
     "metadata": {},
     "output_type": "execute_result"
    }
   ],
   "source": [
    "#for i in range(0, N):\n",
    "i = 0\n",
    "# record the evolution of the states\n",
    "x_t = np.concatenate((x_t, x), axis = 0)\n",
    "x_e_t = np.concatenate((x_e_t, x_e), axis = 0)\n",
    "\n",
    "# simulation of the robot\n",
    "v = u_t[0, i]\n",
    "omega = u_t[1, i]\n",
    "TSPAN = [0, dt]\n",
    "sol = solve_ivp(lambda t, y: F(t,y,u_t[:,i]), TSPAN, x, rtol = 1000, atol = 1000)\n",
    "sol"
   ]
  },
  {
   "cell_type": "markdown",
   "metadata": {},
   "source": [
    "### Visualize the results\n",
    "Let's see what we got..."
   ]
  },
  {
   "cell_type": "markdown",
   "metadata": {},
   "source": [
    "## 2. Implementation considering only angle or distance measure\n",
    "Content"
   ]
  },
  {
   "cell_type": "markdown",
   "metadata": {},
   "source": [
    "## 3. Four beacons simultaneously\n",
    "Content"
   ]
  },
  {
   "cell_type": "markdown",
   "metadata": {},
   "source": [
    "## 4. Four beacons: only angle or distance\n",
    "Content"
   ]
  },
  {
   "cell_type": "markdown",
   "metadata": {},
   "source": [
    "## 5. Observations in coordinates of the robot referential frame\n",
    "Content"
   ]
  },
  {
   "cell_type": "code",
   "execution_count": null,
   "metadata": {},
   "outputs": [],
   "source": []
  }
 ],
 "metadata": {
  "kernelspec": {
   "display_name": "Python 3",
   "language": "python",
   "name": "python3"
  },
  "language_info": {
   "codemirror_mode": {
    "name": "ipython",
    "version": 3
   },
   "file_extension": ".py",
   "mimetype": "text/x-python",
   "name": "python",
   "nbconvert_exporter": "python",
   "pygments_lexer": "ipython3",
   "version": "3.7.1"
  }
 },
 "nbformat": 4,
 "nbformat_minor": 2
}
